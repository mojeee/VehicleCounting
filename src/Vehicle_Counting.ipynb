{
 "cells": [
  {
   "cell_type": "markdown",
   "metadata": {
    "id": "LHbXclkDJixt"
   },
   "source": [
    "## Vehicle counting \n",
    "\n",
    "Here, we follow steps to count the number of cars in the video\n"
   ]
  },
  {
   "cell_type": "markdown",
   "metadata": {
    "id": "XuZddvVDV8Oy"
   },
   "source": [
    "## Installing Ultralytics YOLO"
   ]
  },
  {
   "cell_type": "markdown",
   "metadata": {
    "id": "f0x1LpLzWbr_"
   },
   "source": [
    "##### install and import dependencies"
   ]
  },
  {
   "cell_type": "code",
   "execution_count": 1,
   "metadata": {
    "colab": {
     "base_uri": "https://localhost:8080/"
    },
    "id": "Fjdgups5O1Os",
    "outputId": "9827d20b-2c7d-4f4d-d009-6a45567b2c91"
   },
   "outputs": [
    {
     "name": "stdout",
     "output_type": "stream",
     "text": [
      "Defaulting to user installation because normal site-packages is not writeable\n",
      "Collecting torch\n",
      "  Downloading torch-1.13.1-cp38-cp38-manylinux1_x86_64.whl (887.4 MB)\n",
      "\u001b[2K     \u001b[38;2;114;156;31m━━━━━━━━━━━━━━━━━━━━━━━━━━━━━━━━━━━━━━━\u001b[0m \u001b[32m887.4/887.4 MB\u001b[0m \u001b[31m4.2 MB/s\u001b[0m eta \u001b[36m0:00:00\u001b[0mm eta \u001b[36m0:00:01\u001b[0m[36m0:00:01\u001b[0m\n",
      "\u001b[?25hCollecting torchvision\n",
      "  Downloading torchvision-0.14.1-cp38-cp38-manylinux1_x86_64.whl (24.2 MB)\n",
      "\u001b[2K     \u001b[38;2;114;156;31m━━━━━━━━━━━━━━━━━━━━━━━━━━━━━━━━━━━━━━━━\u001b[0m \u001b[32m24.2/24.2 MB\u001b[0m \u001b[31m43.5 MB/s\u001b[0m eta \u001b[36m0:00:00\u001b[0mm eta \u001b[36m0:00:01\u001b[0m[36m0:00:01\u001b[0m\n",
      "\u001b[?25hCollecting torchaudio\n",
      "  Downloading torchaudio-0.13.1-cp38-cp38-manylinux1_x86_64.whl (4.2 MB)\n",
      "\u001b[2K     \u001b[38;2;114;156;31m━━━━━━━━━━━━━━━━━━━━━━━━━━━━━━━━━━━━━━━━\u001b[0m \u001b[32m4.2/4.2 MB\u001b[0m \u001b[31m46.5 MB/s\u001b[0m eta \u001b[36m0:00:00\u001b[0mm eta \u001b[36m0:00:01\u001b[0m[36m0:00:01\u001b[0m\n",
      "\u001b[?25hCollecting nvidia-cuda-nvrtc-cu11==11.7.99\n",
      "  Downloading nvidia_cuda_nvrtc_cu11-11.7.99-2-py3-none-manylinux1_x86_64.whl (21.0 MB)\n",
      "\u001b[2K     \u001b[38;2;114;156;31m━━━━━━━━━━━━━━━━━━━━━━━━━━━━━━━━━━━━━━━━\u001b[0m \u001b[32m21.0/21.0 MB\u001b[0m \u001b[31m44.3 MB/s\u001b[0m eta \u001b[36m0:00:00\u001b[0mm eta \u001b[36m0:00:01\u001b[0m0:01\u001b[0m:01\u001b[0m\n",
      "\u001b[?25hCollecting nvidia-cublas-cu11==11.10.3.66\n",
      "  Downloading nvidia_cublas_cu11-11.10.3.66-py3-none-manylinux1_x86_64.whl (317.1 MB)\n",
      "\u001b[2K     \u001b[38;2;114;156;31m━━━━━━━━━━━━━━━━━━━━━━━━━━━━━━━━━━━━━━━\u001b[0m \u001b[32m317.1/317.1 MB\u001b[0m \u001b[31m9.5 MB/s\u001b[0m eta \u001b[36m0:00:00\u001b[0mm eta \u001b[36m0:00:01\u001b[0m[36m0:00:01\u001b[0m\n",
      "\u001b[?25hCollecting nvidia-cudnn-cu11==8.5.0.96\n",
      "  Downloading nvidia_cudnn_cu11-8.5.0.96-2-py3-none-manylinux1_x86_64.whl (557.1 MB)\n",
      "\u001b[2K     \u001b[38;2;114;156;31m━━━━━━━━━━━━━━━━━━━━━━━━━━━━━━━━━━━━━━━\u001b[0m \u001b[32m557.1/557.1 MB\u001b[0m \u001b[31m4.9 MB/s\u001b[0m eta \u001b[36m0:00:00\u001b[0mm eta \u001b[36m0:00:01\u001b[0m[36m0:00:01\u001b[0m\n",
      "\u001b[?25hCollecting nvidia-cuda-runtime-cu11==11.7.99\n",
      "  Downloading nvidia_cuda_runtime_cu11-11.7.99-py3-none-manylinux1_x86_64.whl (849 kB)\n",
      "\u001b[2K     \u001b[38;2;114;156;31m━━━━━━━━━━━━━━━━━━━━━━━━━━━━━━━━━━━━━━\u001b[0m \u001b[32m849.3/849.3 kB\u001b[0m \u001b[31m51.8 MB/s\u001b[0m eta \u001b[36m0:00:00\u001b[0m\n",
      "\u001b[?25hCollecting typing-extensions\n",
      "  Downloading typing_extensions-4.4.0-py3-none-any.whl (26 kB)\n",
      "Requirement already satisfied: wheel in /usr/lib/python3/dist-packages (from nvidia-cublas-cu11==11.10.3.66->torch) (0.34.2)\n",
      "Requirement already satisfied: setuptools in /usr/lib/python3/dist-packages (from nvidia-cublas-cu11==11.10.3.66->torch) (45.2.0)\n",
      "Requirement already satisfied: requests in /usr/lib/python3/dist-packages (from torchvision) (2.22.0)\n",
      "Requirement already satisfied: pillow!=8.3.*,>=5.3.0 in /usr/lib/python3/dist-packages (from torchvision) (7.0.0)\n",
      "Requirement already satisfied: numpy in /home/mojeee/.local/lib/python3.8/site-packages (from torchvision) (1.24.2)\n",
      "Installing collected packages: typing-extensions, nvidia-cuda-runtime-cu11, nvidia-cuda-nvrtc-cu11, nvidia-cublas-cu11, nvidia-cudnn-cu11, torch, torchvision, torchaudio\n",
      "Successfully installed nvidia-cublas-cu11-11.10.3.66 nvidia-cuda-nvrtc-cu11-11.7.99 nvidia-cuda-runtime-cu11-11.7.99 nvidia-cudnn-cu11-8.5.0.96 torch-1.13.1 torchaudio-0.13.1 torchvision-0.14.1 typing-extensions-4.4.0\n"
     ]
    }
   ],
   "source": [
    "!pip3 install torch torchvision torchaudio\n"
   ]
  },
  {
   "cell_type": "code",
   "execution_count": 3,
   "metadata": {},
   "outputs": [
    {
     "data": {
      "text/plain": [
       "'/home/mojeee/Downloads/VehicleCounting-main/src'"
      ]
     },
     "execution_count": 3,
     "metadata": {},
     "output_type": "execute_result"
    }
   ],
   "source": [
    "%pwd"
   ]
  },
  {
   "cell_type": "code",
   "execution_count": 4,
   "metadata": {
    "colab": {
     "base_uri": "https://localhost:8080/"
    },
    "id": "smlBiNG6Xo4l",
    "outputId": "e0b43cad-cf97-4d32-e60c-59bd0f66aac0"
   },
   "outputs": [
    {
     "name": "stdout",
     "output_type": "stream",
     "text": [
      "Cloning into 'yolov5'...\n",
      "remote: Enumerating objects: 15070, done.\u001b[K\n",
      "remote: Counting objects: 100% (51/51), done.\u001b[K\n",
      "remote: Compressing objects: 100% (39/39), done.\u001b[K\n",
      "remote: Total 15070 (delta 25), reused 29 (delta 12), pack-reused 15019\u001b[K\n",
      "Receiving objects: 100% (15070/15070), 14.07 MiB | 8.24 MiB/s, done.\n",
      "Resolving deltas: 100% (10324/10324), done.\n"
     ]
    }
   ],
   "source": [
    "!git clone https://github.com/ultralytics/yolov5"
   ]
  },
  {
   "cell_type": "code",
   "execution_count": 5,
   "metadata": {
    "colab": {
     "base_uri": "https://localhost:8080/"
    },
    "id": "4snC0M74YBG_",
    "outputId": "8ccca312-1db4-4c90-c64b-e221d4f781ad"
   },
   "outputs": [
    {
     "name": "stdout",
     "output_type": "stream",
     "text": [
      "Vehicle_Counting.ipynb  \u001b[0m\u001b[01;34myolov5\u001b[0m/\r\n"
     ]
    }
   ],
   "source": [
    "ls"
   ]
  },
  {
   "cell_type": "code",
   "execution_count": 6,
   "metadata": {
    "colab": {
     "base_uri": "https://localhost:8080/"
    },
    "id": "JkZYurptX1qA",
    "outputId": "6d51cb73-148d-4c26-e402-b79b936b19bb"
   },
   "outputs": [
    {
     "name": "stdout",
     "output_type": "stream",
     "text": [
      "/home/mojeee/Downloads/VehicleCounting-main/src/yolov5\n"
     ]
    }
   ],
   "source": [
    "cd yolov5"
   ]
  },
  {
   "cell_type": "code",
   "execution_count": 7,
   "metadata": {
    "colab": {
     "base_uri": "https://localhost:8080/"
    },
    "id": "0CrUK3jeX6pW",
    "outputId": "fd2ba23e-3298-4fc3-a9bd-888375932d19"
   },
   "outputs": [
    {
     "name": "stdout",
     "output_type": "stream",
     "text": [
      "benchmarks.py    \u001b[0m\u001b[01;34mdata\u001b[0m/       LICENSE          requirements.txt  tutorial.ipynb\r\n",
      "CITATION.cff     detect.py   \u001b[01;34mmodels\u001b[0m/          \u001b[01;34msegment\u001b[0m/          \u001b[01;34mutils\u001b[0m/\r\n",
      "\u001b[01;34mclassify\u001b[0m/        export.py   README.md        setup.cfg         val.py\r\n",
      "CONTRIBUTING.md  hubconf.py  README.zh-CN.md  train.py\r\n"
     ]
    }
   ],
   "source": [
    "ls"
   ]
  },
  {
   "cell_type": "code",
   "execution_count": 8,
   "metadata": {
    "colab": {
     "base_uri": "https://localhost:8080/"
    },
    "id": "Os1b6RJpX_8Y",
    "outputId": "2adc8bcd-2ec9-41d4-c2a8-1929d6cfcda5"
   },
   "outputs": [
    {
     "name": "stdout",
     "output_type": "stream",
     "text": [
      "Defaulting to user installation because normal site-packages is not writeable\n",
      "Collecting gitpython\n",
      "  Downloading GitPython-3.1.30-py3-none-any.whl (184 kB)\n",
      "\u001b[2K     \u001b[38;2;114;156;31m━━━━━━━━━━━━━━━━━━━━━━━━━━━━━━━━━━━━━━━\u001b[0m \u001b[32m184.0/184.0 kB\u001b[0m \u001b[31m1.7 MB/s\u001b[0m eta \u001b[36m0:00:00\u001b[0m[31m1.8 MB/s\u001b[0m eta \u001b[36m0:00:01\u001b[0m\n",
      "\u001b[?25hRequirement already satisfied: ipython in /home/mojeee/.local/lib/python3.8/site-packages (from -r requirements.txt (line 6)) (8.9.0)\n",
      "Collecting matplotlib>=3.2.2\n",
      "  Downloading matplotlib-3.6.3-cp38-cp38-manylinux_2_12_x86_64.manylinux2010_x86_64.whl (9.4 MB)\n",
      "\u001b[2K     \u001b[38;2;114;156;31m━━━━━━━━━━━━━━━━━━━━━━━━━━━━━━━━━━━━━━━━\u001b[0m \u001b[32m9.4/9.4 MB\u001b[0m \u001b[31m11.9 MB/s\u001b[0m eta \u001b[36m0:00:00\u001b[0mm eta \u001b[36m0:00:01\u001b[0m[36m0:00:01\u001b[0m\n",
      "\u001b[?25hRequirement already satisfied: numpy>=1.18.5 in /home/mojeee/.local/lib/python3.8/site-packages (from -r requirements.txt (line 8)) (1.24.2)\n",
      "Requirement already satisfied: opencv-python>=4.1.1 in /home/mojeee/.local/lib/python3.8/site-packages (from -r requirements.txt (line 9)) (4.7.0.68)\n",
      "Collecting Pillow>=7.1.2\n",
      "  Downloading Pillow-9.4.0-cp38-cp38-manylinux_2_28_x86_64.whl (3.4 MB)\n",
      "\u001b[2K     \u001b[38;2;114;156;31m━━━━━━━━━━━━━━━━━━━━━━━━━━━━━━━━━━━━━━━━\u001b[0m \u001b[32m3.4/3.4 MB\u001b[0m \u001b[31m21.9 MB/s\u001b[0m eta \u001b[36m0:00:00\u001b[0mm eta \u001b[36m0:00:01\u001b[0m[36m0:00:01\u001b[0m\n",
      "\u001b[?25hRequirement already satisfied: psutil in /home/mojeee/.local/lib/python3.8/site-packages (from -r requirements.txt (line 11)) (5.9.4)\n",
      "Requirement already satisfied: PyYAML>=5.3.1 in /usr/lib/python3/dist-packages (from -r requirements.txt (line 12)) (5.3.1)\n",
      "Collecting requests>=2.23.0\n",
      "  Downloading requests-2.28.2-py3-none-any.whl (62 kB)\n",
      "\u001b[2K     \u001b[38;2;114;156;31m━━━━━━━━━━━━━━━━━━━━━━━━━━━━━━━━━━━━━━━━\u001b[0m \u001b[32m62.8/62.8 kB\u001b[0m \u001b[31m11.6 MB/s\u001b[0m eta \u001b[36m0:00:00\u001b[0m\n",
      "\u001b[?25hCollecting scipy>=1.4.1\n",
      "  Downloading scipy-1.10.0-cp38-cp38-manylinux_2_17_x86_64.manylinux2014_x86_64.whl (34.5 MB)\n",
      "\u001b[2K     \u001b[38;2;114;156;31m━━━━━━━━━━━━━━━━━━━━━━━━━━━━━━━━━━━━━━━━\u001b[0m \u001b[32m34.5/34.5 MB\u001b[0m \u001b[31m33.0 MB/s\u001b[0m eta \u001b[36m0:00:00\u001b[0mm eta \u001b[36m0:00:01\u001b[0m0:01\u001b[0m:01\u001b[0m\n",
      "\u001b[?25hCollecting thop>=0.1.1\n",
      "  Downloading thop-0.1.1.post2209072238-py3-none-any.whl (15 kB)\n",
      "Requirement already satisfied: torch>=1.7.0 in /home/mojeee/.local/lib/python3.8/site-packages (from -r requirements.txt (line 16)) (1.13.1)\n",
      "Requirement already satisfied: torchvision>=0.8.1 in /home/mojeee/.local/lib/python3.8/site-packages (from -r requirements.txt (line 17)) (0.14.1)\n",
      "Collecting tqdm>=4.64.0\n",
      "  Downloading tqdm-4.64.1-py2.py3-none-any.whl (78 kB)\n",
      "\u001b[2K     \u001b[38;2;114;156;31m━━━━━━━━━━━━━━━━━━━━━━━━━━━━━━━━━━━━━━━━\u001b[0m \u001b[32m78.5/78.5 kB\u001b[0m \u001b[31m23.4 MB/s\u001b[0m eta \u001b[36m0:00:00\u001b[0m\n",
      "\u001b[?25hCollecting tensorboard>=2.4.1\n",
      "  Downloading tensorboard-2.11.2-py3-none-any.whl (6.0 MB)\n",
      "\u001b[2K     \u001b[38;2;114;156;31m━━━━━━━━━━━━━━━━━━━━━━━━━━━━━━━━━━━━━━━━\u001b[0m \u001b[32m6.0/6.0 MB\u001b[0m \u001b[31m53.1 MB/s\u001b[0m eta \u001b[36m0:00:00\u001b[0mm eta \u001b[36m0:00:01\u001b[0m0:01\u001b[0m:01\u001b[0m\n",
      "\u001b[?25hRequirement already satisfied: pandas>=1.1.4 in /home/mojeee/.local/lib/python3.8/site-packages (from -r requirements.txt (line 27)) (1.5.3)\n",
      "Collecting seaborn>=0.11.0\n",
      "  Downloading seaborn-0.12.2-py3-none-any.whl (293 kB)\n",
      "\u001b[2K     \u001b[38;2;114;156;31m━━━━━━━━━━━━━━━━━━━━━━━━━━━━━━━━━━━━━━\u001b[0m \u001b[32m293.3/293.3 kB\u001b[0m \u001b[31m61.0 MB/s\u001b[0m eta \u001b[36m0:00:00\u001b[0m\n",
      "\u001b[?25hCollecting gitdb<5,>=4.0.1\n",
      "  Downloading gitdb-4.0.10-py3-none-any.whl (62 kB)\n",
      "\u001b[2K     \u001b[38;2;114;156;31m━━━━━━━━━━━━━━━━━━━━━━━━━━━━━━━━━━━━━━━━\u001b[0m \u001b[32m62.7/62.7 kB\u001b[0m \u001b[31m14.3 MB/s\u001b[0m eta \u001b[36m0:00:00\u001b[0m\n",
      "\u001b[?25hRequirement already satisfied: traitlets>=5 in /home/mojeee/.local/lib/python3.8/site-packages (from ipython->-r requirements.txt (line 6)) (5.9.0)\n",
      "Requirement already satisfied: decorator in /home/mojeee/.local/lib/python3.8/site-packages (from ipython->-r requirements.txt (line 6)) (5.1.1)\n",
      "Requirement already satisfied: pygments>=2.4.0 in /home/mojeee/.local/lib/python3.8/site-packages (from ipython->-r requirements.txt (line 6)) (2.14.0)\n",
      "Requirement already satisfied: stack-data in /home/mojeee/.local/lib/python3.8/site-packages (from ipython->-r requirements.txt (line 6)) (0.6.2)\n",
      "Requirement already satisfied: jedi>=0.16 in /home/mojeee/.local/lib/python3.8/site-packages (from ipython->-r requirements.txt (line 6)) (0.18.2)\n",
      "Requirement already satisfied: prompt-toolkit<3.1.0,>=3.0.30 in /home/mojeee/.local/lib/python3.8/site-packages (from ipython->-r requirements.txt (line 6)) (3.0.36)\n",
      "Requirement already satisfied: pexpect>4.3 in /usr/lib/python3/dist-packages (from ipython->-r requirements.txt (line 6)) (4.6.0)\n",
      "Requirement already satisfied: matplotlib-inline in /home/mojeee/.local/lib/python3.8/site-packages (from ipython->-r requirements.txt (line 6)) (0.1.6)\n",
      "Requirement already satisfied: pickleshare in /home/mojeee/.local/lib/python3.8/site-packages (from ipython->-r requirements.txt (line 6)) (0.7.5)\n",
      "Requirement already satisfied: backcall in /home/mojeee/.local/lib/python3.8/site-packages (from ipython->-r requirements.txt (line 6)) (0.2.0)\n",
      "Collecting contourpy>=1.0.1\n",
      "  Downloading contourpy-1.0.7-cp38-cp38-manylinux_2_17_x86_64.manylinux2014_x86_64.whl (300 kB)\n",
      "\u001b[2K     \u001b[38;2;114;156;31m━━━━━━━━━━━━━━━━━━━━━━━━━━━━━━━━━━━━━━\u001b[0m \u001b[32m300.0/300.0 kB\u001b[0m \u001b[31m30.8 MB/s\u001b[0m eta \u001b[36m0:00:00\u001b[0m\n",
      "\u001b[?25hCollecting cycler>=0.10\n",
      "  Downloading cycler-0.11.0-py3-none-any.whl (6.4 kB)\n",
      "Requirement already satisfied: packaging>=20.0 in /home/mojeee/.local/lib/python3.8/site-packages (from matplotlib>=3.2.2->-r requirements.txt (line 7)) (23.0)\n",
      "Collecting kiwisolver>=1.0.1\n",
      "  Downloading kiwisolver-1.4.4-cp38-cp38-manylinux_2_5_x86_64.manylinux1_x86_64.whl (1.2 MB)\n",
      "\u001b[2K     \u001b[38;2;114;156;31m━━━━━━━━━━━━━━━━━━━━━━━━━━━━━━━━━━━━━━━━\u001b[0m \u001b[32m1.2/1.2 MB\u001b[0m \u001b[31m61.5 MB/s\u001b[0m eta \u001b[36m0:00:00\u001b[0m\n",
      "\u001b[?25hCollecting fonttools>=4.22.0\n",
      "  Downloading fonttools-4.38.0-py3-none-any.whl (965 kB)\n",
      "\u001b[2K     \u001b[38;2;114;156;31m━━━━━━━━━━━━━━━━━━━━━━━━━━━━━━━━━━━━━━\u001b[0m \u001b[32m965.4/965.4 kB\u001b[0m \u001b[31m54.1 MB/s\u001b[0m eta \u001b[36m0:00:00\u001b[0m\n",
      "\u001b[?25hRequirement already satisfied: python-dateutil>=2.7 in /home/mojeee/.local/lib/python3.8/site-packages (from matplotlib>=3.2.2->-r requirements.txt (line 7)) (2.8.2)\n",
      "Collecting pyparsing>=2.2.1\n",
      "  Downloading pyparsing-3.0.9-py3-none-any.whl (98 kB)\n",
      "\u001b[2K     \u001b[38;2;114;156;31m━━━━━━━━━━━━━━━━━━━━━━━━━━━━━━━━━━━━━━━━\u001b[0m \u001b[32m98.3/98.3 kB\u001b[0m \u001b[31m13.6 MB/s\u001b[0m eta \u001b[36m0:00:00\u001b[0m\n",
      "\u001b[?25hRequirement already satisfied: certifi>=2017.4.17 in /usr/lib/python3/dist-packages (from requests>=2.23.0->-r requirements.txt (line 13)) (2019.11.28)\n",
      "Collecting charset-normalizer<4,>=2\n",
      "  Downloading charset_normalizer-3.0.1-cp38-cp38-manylinux_2_17_x86_64.manylinux2014_x86_64.whl (195 kB)\n",
      "\u001b[2K     \u001b[38;2;114;156;31m━━━━━━━━━━━━━━━━━━━━━━━━━━━━━━━━━━━━━━\u001b[0m \u001b[32m195.4/195.4 kB\u001b[0m \u001b[31m23.2 MB/s\u001b[0m eta \u001b[36m0:00:00\u001b[0m\n",
      "\u001b[?25hRequirement already satisfied: idna<4,>=2.5 in /usr/lib/python3/dist-packages (from requests>=2.23.0->-r requirements.txt (line 13)) (2.8)\n",
      "Requirement already satisfied: urllib3<1.27,>=1.21.1 in /usr/lib/python3/dist-packages (from requests>=2.23.0->-r requirements.txt (line 13)) (1.25.8)\n",
      "Requirement already satisfied: nvidia-cuda-runtime-cu11==11.7.99 in /home/mojeee/.local/lib/python3.8/site-packages (from torch>=1.7.0->-r requirements.txt (line 16)) (11.7.99)\n",
      "Requirement already satisfied: typing-extensions in /home/mojeee/.local/lib/python3.8/site-packages (from torch>=1.7.0->-r requirements.txt (line 16)) (4.4.0)\n",
      "Requirement already satisfied: nvidia-cudnn-cu11==8.5.0.96 in /home/mojeee/.local/lib/python3.8/site-packages (from torch>=1.7.0->-r requirements.txt (line 16)) (8.5.0.96)\n",
      "Requirement already satisfied: nvidia-cuda-nvrtc-cu11==11.7.99 in /home/mojeee/.local/lib/python3.8/site-packages (from torch>=1.7.0->-r requirements.txt (line 16)) (11.7.99)\n",
      "Requirement already satisfied: nvidia-cublas-cu11==11.10.3.66 in /home/mojeee/.local/lib/python3.8/site-packages (from torch>=1.7.0->-r requirements.txt (line 16)) (11.10.3.66)\n",
      "Requirement already satisfied: setuptools in /usr/lib/python3/dist-packages (from nvidia-cublas-cu11==11.10.3.66->torch>=1.7.0->-r requirements.txt (line 16)) (45.2.0)\n",
      "Requirement already satisfied: wheel in /usr/lib/python3/dist-packages (from nvidia-cublas-cu11==11.10.3.66->torch>=1.7.0->-r requirements.txt (line 16)) (0.34.2)\n"
     ]
    },
    {
     "name": "stdout",
     "output_type": "stream",
     "text": [
      "Collecting tensorboard-plugin-wit>=1.6.0\n",
      "  Downloading tensorboard_plugin_wit-1.8.1-py3-none-any.whl (781 kB)\n",
      "\u001b[2K     \u001b[38;2;114;156;31m━━━━━━━━━━━━━━━━━━━━━━━━━━━━━━━━━━━━━━\u001b[0m \u001b[32m781.3/781.3 kB\u001b[0m \u001b[31m64.7 MB/s\u001b[0m eta \u001b[36m0:00:00\u001b[0m\n",
      "\u001b[?25hCollecting google-auth<3,>=1.6.3\n",
      "  Downloading google_auth-2.16.0-py2.py3-none-any.whl (177 kB)\n",
      "\u001b[2K     \u001b[38;2;114;156;31m━━━━━━━━━━━━━━━━━━━━━━━━━━━━━━━━━━━━━━\u001b[0m \u001b[32m177.8/177.8 kB\u001b[0m \u001b[31m29.3 MB/s\u001b[0m eta \u001b[36m0:00:00\u001b[0m\n",
      "\u001b[?25hCollecting tensorboard-data-server<0.7.0,>=0.6.0\n",
      "  Downloading tensorboard_data_server-0.6.1-py3-none-manylinux2010_x86_64.whl (4.9 MB)\n",
      "\u001b[2K     \u001b[38;2;114;156;31m━━━━━━━━━━━━━━━━━━━━━━━━━━━━━━━━━━━━━━━━\u001b[0m \u001b[32m4.9/4.9 MB\u001b[0m \u001b[31m52.9 MB/s\u001b[0m eta \u001b[36m0:00:00\u001b[0m31m66.3 MB/s\u001b[0m eta \u001b[36m0:00:01\u001b[0m\n",
      "\u001b[?25hCollecting absl-py>=0.4\n",
      "  Downloading absl_py-1.4.0-py3-none-any.whl (126 kB)\n",
      "\u001b[2K     \u001b[38;2;114;156;31m━━━━━━━━━━━━━━━━━━━━━━━━━━━━━━━━━━━━━━\u001b[0m \u001b[32m126.5/126.5 kB\u001b[0m \u001b[31m20.7 MB/s\u001b[0m eta \u001b[36m0:00:00\u001b[0m\n",
      "\u001b[?25hCollecting markdown>=2.6.8\n",
      "  Downloading Markdown-3.4.1-py3-none-any.whl (93 kB)\n",
      "\u001b[2K     \u001b[38;2;114;156;31m━━━━━━━━━━━━━━━━━━━━━━━━━━━━━━━━━━━━━━━━\u001b[0m \u001b[32m93.3/93.3 kB\u001b[0m \u001b[31m24.9 MB/s\u001b[0m eta \u001b[36m0:00:00\u001b[0m\n",
      "\u001b[?25hCollecting werkzeug>=1.0.1\n",
      "  Downloading Werkzeug-2.2.2-py3-none-any.whl (232 kB)\n",
      "\u001b[2K     \u001b[38;2;114;156;31m━━━━━━━━━━━━━━━━━━━━━━━━━━━━━━━━━━━━━━\u001b[0m \u001b[32m232.7/232.7 kB\u001b[0m \u001b[31m40.8 MB/s\u001b[0m eta \u001b[36m0:00:00\u001b[0m\n",
      "\u001b[?25hCollecting grpcio>=1.24.3\n",
      "  Downloading grpcio-1.51.1-cp38-cp38-manylinux_2_17_x86_64.manylinux2014_x86_64.whl (4.8 MB)\n",
      "\u001b[2K     \u001b[38;2;114;156;31m━━━━━━━━━━━━━━━━━━━━━━━━━━━━━━━━━━━━━━━━\u001b[0m \u001b[32m4.8/4.8 MB\u001b[0m \u001b[31m51.9 MB/s\u001b[0m eta \u001b[36m0:00:00\u001b[0m31m68.1 MB/s\u001b[0m eta \u001b[36m0:00:01\u001b[0m\n",
      "\u001b[?25hCollecting protobuf<4,>=3.9.2\n",
      "  Downloading protobuf-3.20.3-cp38-cp38-manylinux_2_5_x86_64.manylinux1_x86_64.whl (1.0 MB)\n",
      "\u001b[2K     \u001b[38;2;114;156;31m━━━━━━━━━━━━━━━━━━━━━━━━━━━━━━━━━━━━━━━━\u001b[0m \u001b[32m1.0/1.0 MB\u001b[0m \u001b[31m47.8 MB/s\u001b[0m eta \u001b[36m0:00:00\u001b[0m\n",
      "\u001b[?25hCollecting google-auth-oauthlib<0.5,>=0.4.1\n",
      "  Downloading google_auth_oauthlib-0.4.6-py2.py3-none-any.whl (18 kB)\n",
      "Requirement already satisfied: pytz>=2020.1 in /home/mojeee/.local/lib/python3.8/site-packages (from pandas>=1.1.4->-r requirements.txt (line 27)) (2022.7.1)\n",
      "Collecting smmap<6,>=3.0.1\n",
      "  Downloading smmap-5.0.0-py3-none-any.whl (24 kB)\n",
      "Requirement already satisfied: six>=1.9.0 in /usr/lib/python3/dist-packages (from google-auth<3,>=1.6.3->tensorboard>=2.4.1->-r requirements.txt (line 22)) (1.14.0)\n",
      "Collecting cachetools<6.0,>=2.0.0\n",
      "  Downloading cachetools-5.3.0-py3-none-any.whl (9.3 kB)\n",
      "Collecting pyasn1-modules>=0.2.1\n",
      "  Downloading pyasn1_modules-0.2.8-py2.py3-none-any.whl (155 kB)\n",
      "\u001b[2K     \u001b[38;2;114;156;31m━━━━━━━━━━━━━━━━━━━━━━━━━━━━━━━━━━━━━━\u001b[0m \u001b[32m155.3/155.3 kB\u001b[0m \u001b[31m19.3 MB/s\u001b[0m eta \u001b[36m0:00:00\u001b[0m\n",
      "\u001b[?25hCollecting rsa<5,>=3.1.4\n",
      "  Downloading rsa-4.9-py3-none-any.whl (34 kB)\n",
      "Collecting requests-oauthlib>=0.7.0\n",
      "  Downloading requests_oauthlib-1.3.1-py2.py3-none-any.whl (23 kB)\n",
      "Requirement already satisfied: parso<0.9.0,>=0.8.0 in /home/mojeee/.local/lib/python3.8/site-packages (from jedi>=0.16->ipython->-r requirements.txt (line 6)) (0.8.3)\n",
      "Requirement already satisfied: importlib-metadata>=4.4 in /home/mojeee/.local/lib/python3.8/site-packages (from markdown>=2.6.8->tensorboard>=2.4.1->-r requirements.txt (line 22)) (6.0.0)\n",
      "Requirement already satisfied: wcwidth in /home/mojeee/.local/lib/python3.8/site-packages (from prompt-toolkit<3.1.0,>=3.0.30->ipython->-r requirements.txt (line 6)) (0.2.6)\n",
      "Requirement already satisfied: MarkupSafe>=2.1.1 in /home/mojeee/.local/lib/python3.8/site-packages (from werkzeug>=1.0.1->tensorboard>=2.4.1->-r requirements.txt (line 22)) (2.1.2)\n",
      "Requirement already satisfied: pure-eval in /home/mojeee/.local/lib/python3.8/site-packages (from stack-data->ipython->-r requirements.txt (line 6)) (0.2.2)\n",
      "Requirement already satisfied: asttokens>=2.1.0 in /home/mojeee/.local/lib/python3.8/site-packages (from stack-data->ipython->-r requirements.txt (line 6)) (2.2.1)\n",
      "Requirement already satisfied: executing>=1.2.0 in /home/mojeee/.local/lib/python3.8/site-packages (from stack-data->ipython->-r requirements.txt (line 6)) (1.2.0)\n",
      "Requirement already satisfied: zipp>=0.5 in /home/mojeee/.local/lib/python3.8/site-packages (from importlib-metadata>=4.4->markdown>=2.6.8->tensorboard>=2.4.1->-r requirements.txt (line 22)) (3.12.1)\n",
      "Collecting pyasn1<0.5.0,>=0.4.6\n",
      "  Downloading pyasn1-0.4.8-py2.py3-none-any.whl (77 kB)\n",
      "\u001b[2K     \u001b[38;2;114;156;31m━━━━━━━━━━━━━━━━━━━━━━━━━━━━━━━━━━━━━━━━\u001b[0m \u001b[32m77.1/77.1 kB\u001b[0m \u001b[31m13.4 MB/s\u001b[0m eta \u001b[36m0:00:00\u001b[0m\n",
      "\u001b[?25hRequirement already satisfied: oauthlib>=3.0.0 in /usr/lib/python3/dist-packages (from requests-oauthlib>=0.7.0->google-auth-oauthlib<0.5,>=0.4.1->tensorboard>=2.4.1->-r requirements.txt (line 22)) (3.1.0)\n",
      "Installing collected packages: tensorboard-plugin-wit, pyasn1, charset-normalizer, werkzeug, tqdm, tensorboard-data-server, smmap, scipy, rsa, requests, pyparsing, pyasn1-modules, protobuf, Pillow, kiwisolver, grpcio, fonttools, cycler, contourpy, cachetools, absl-py, requests-oauthlib, matplotlib, markdown, google-auth, gitdb, seaborn, google-auth-oauthlib, gitpython, thop, tensorboard\n",
      "Successfully installed Pillow-9.4.0 absl-py-1.4.0 cachetools-5.3.0 charset-normalizer-3.0.1 contourpy-1.0.7 cycler-0.11.0 fonttools-4.38.0 gitdb-4.0.10 gitpython-3.1.30 google-auth-2.16.0 google-auth-oauthlib-0.4.6 grpcio-1.51.1 kiwisolver-1.4.4 markdown-3.4.1 matplotlib-3.6.3 protobuf-3.20.3 pyasn1-0.4.8 pyasn1-modules-0.2.8 pyparsing-3.0.9 requests-2.28.2 requests-oauthlib-1.3.1 rsa-4.9 scipy-1.10.0 seaborn-0.12.2 smmap-5.0.0 tensorboard-2.11.2 tensorboard-data-server-0.6.1 tensorboard-plugin-wit-1.8.1 thop-0.1.1.post2209072238 tqdm-4.64.1 werkzeug-2.2.2\n"
     ]
    }
   ],
   "source": [
    "!pip install -r requirements.txt"
   ]
  },
  {
   "cell_type": "code",
   "execution_count": 10,
   "metadata": {},
   "outputs": [
    {
     "name": "stdout",
     "output_type": "stream",
     "text": [
      "Defaulting to user installation because normal site-packages is not writeable\n",
      "Collecting deep-sort-realtime\n",
      "  Downloading deep_sort_realtime-1.3.1-py3-none-any.whl (8.4 MB)\n",
      "\u001b[2K     \u001b[38;2;114;156;31m━━━━━━━━━━━━━━━━━━━━━━━━━━━━━━━━━━━━━━━━\u001b[0m \u001b[32m8.4/8.4 MB\u001b[0m \u001b[31m14.4 MB/s\u001b[0m eta \u001b[36m0:00:00\u001b[0mm eta \u001b[36m0:00:01\u001b[0m0:01\u001b[0m:01\u001b[0m\n",
      "\u001b[?25hRequirement already satisfied: opencv-python in /home/mojeee/.local/lib/python3.8/site-packages (from deep-sort-realtime) (4.7.0.68)\n",
      "Requirement already satisfied: scipy in /home/mojeee/.local/lib/python3.8/site-packages (from deep-sort-realtime) (1.10.0)\n",
      "Requirement already satisfied: numpy in /home/mojeee/.local/lib/python3.8/site-packages (from deep-sort-realtime) (1.24.2)\n",
      "Installing collected packages: deep-sort-realtime\n",
      "Successfully installed deep-sort-realtime-1.3.1\n"
     ]
    }
   ],
   "source": [
    "!pip install deep-sort-realtime"
   ]
  },
  {
   "cell_type": "markdown",
   "metadata": {
    "id": "3CjjUzACKi9O"
   },
   "source": [
    "## Class for handling the process"
   ]
  },
  {
   "cell_type": "code",
   "execution_count": 3,
   "metadata": {},
   "outputs": [],
   "source": [
    "import torch\n",
    "#from matplotlib import pyplot as plt\n",
    "import numpy as np\n",
    "import cv2\n",
    "from deep_sort_realtime.deepsort_tracker import DeepSort"
   ]
  },
  {
   "cell_type": "code",
   "execution_count": 6,
   "metadata": {},
   "outputs": [],
   "source": [
    "\n",
    "class VehicleCounting:\n",
    "    \n",
    "    def __init__(self,dm: str = \"Yolo\" ,size:str =\"medium\",  tm: str = \"DeepSort\" , vn : int = 4,\n",
    "                tr: str = \"deepsort\", mads: int = 10 , sf : int = 3 , conf: float = 0.5, \n",
    "                 RoC : list = [[445, 344],[625, 344],[144, 500],[588, 500]] ):\n",
    "        \n",
    "        self.detection_model = dm\n",
    "        self.Tracking_model = tm\n",
    "        self.size = size\n",
    "        self.video_number = vn\n",
    "        self.tracker = tr\n",
    "        self.max_age_deepsort = mads\n",
    "        self.skip_frame = sf\n",
    "        self.confidence = conf\n",
    "        self.region_of_counting = RoC # [tl,tr,bl,br]\n",
    "        self.tl = self.region_of_counting[0]\n",
    "        self.tr = self.region_of_counting[1]\n",
    "        self.bl = self.region_of_counting[2]\n",
    "        self.br = self.region_of_counting[3]\n",
    "        self.tracked_id = []\n",
    "        self.skframe = 0\n",
    "        self.car_number = 0\n",
    "        self.tracked_id = 0\n",
    "        self.num_frame = 0\n",
    "        \n",
    "        \n",
    "    def detector(self) :\n",
    "        \n",
    "        if self.detection_model == \"Yolo\" and self.size == \"small\":\n",
    "            model = torch.hub.load(\"ultralytics/yolov5\",\"yolov5s\")\n",
    "            \n",
    "        if self.detection_model == \"Yolo\" and self.size == \"medium\":\n",
    "            model = torch.hub.load(\"ultralytics/yolov5\",\"yolov5m\")\n",
    "            \n",
    "        return model\n",
    "    def trackers(self):\n",
    "        \n",
    "        if self.tracker == \"deepsort\":\n",
    "            mtracker = DeepSort(max_age=self.max_age_deepsort)\n",
    "                \n",
    "        return mtracker \n",
    "    def detections(self,model,frame):\n",
    "        \n",
    "        results = model(frame)    \n",
    "        detections = []\n",
    "        # find the center point of the box for counting issue\n",
    "        locations = results.pandas().xyxy[0]\n",
    "    \n",
    "        for index,row in locations.iterrows():\n",
    "            #      xmin    ymin    xmax   ymax  confidence  class    name\n",
    "            # 0  749.50   43.50  1148.0  704.5    0.874023      0  person\n",
    "            # 2  114.75  195.75  1095.0  708.0    0.624512      0  person\n",
    "            # 3  986.00  304.00  1028.0  420.0    0.286865     27     ti\n",
    "            x1 = int(row['xmin'])\n",
    "            y1 = int(row['ymin'])\n",
    "            x2 = int(row['xmax'])\n",
    "            y2 = int(row['ymax'])\n",
    "            confidence = row[\"confidence\"]\n",
    "            x_shape, y_shape = width , height\n",
    "        \n",
    "            if confidence > self.confidence:\n",
    "                detections.append(([x1,y1,int(x2-x1),int(y2-y1)],confidence,row[\"class\"], row[\"name\"]))\n",
    "                \n",
    "        return detections\n",
    "    \n",
    "    def tracking(self,tracker,frame,detections,car_number,tracked_id,skframe,height):\n",
    "        \n",
    "        tl= self.tl\n",
    "        tr= self.tr\n",
    "        bl= self.bl\n",
    "        br= self.br\n",
    "        \n",
    "        if detections != []:\n",
    "        \n",
    "            tracks = tracker.update_tracks(detections, frame=frame) # bbs expected to be a list of detections, each in tuples of ( [left,top,w,h], confidence, detection_class )\n",
    "            \n",
    "            for track in tracks:\n",
    "                if not track.is_confirmed():\n",
    "                    continue\n",
    "                track_id = track.track_id\n",
    "                #track_class = track.class_num\n",
    "                #print(track_class)\n",
    "                ltrb = track.to_ltrb()\n",
    "                bbox = ltrb\n",
    "                cv2.rectangle(frame,(int(bbox[0]), int(bbox[1])),(int(bbox[2]), int(bbox[3])),(0,0,255),2)\n",
    "                cv2.putText(frame, \"ID: \" + str(track_id), (int(bbox[0]), int(bbox[1] - 10)), \n",
    "                            cv2.FONT_HERSHEY_SIMPLEX, 0.9, (0, 255, 0), 2)\n",
    "            \n",
    "                # calculating center point\n",
    "                x_center = int((int(bbox[0])+int(bbox[2]))/2)\n",
    "                y_center = int((int(bbox[1])+int(bbox[3]))/2)\n",
    "                \n",
    "                cv2.circle(frame,(x_center,y_center),3,(255,0,255),-1)\n",
    "        \n",
    "                if tracked_id == [] and y_center>tl[1] and y_center < bl[1] and x_center<600 :\n",
    "                    tracked_id.append(track_id)\n",
    "                    car_number +=1\n",
    "                else:\n",
    "                    if track_id not in tracked_id and y_center>tl[1] and y_center < bl[1] and x_center<600:\n",
    "                        tracked_id.append(track_id)\n",
    "                        car_number +=1\n",
    "                #print(\"number of cars: \",car_number) \n",
    "                x,y,h,w = 0,0,75,height\n",
    "                cv2.putText(frame, str(car_number), (x + int(w/10)+10,y + int(h/2)+25), cv2.FONT_HERSHEY_SIMPLEX,\n",
    "                        0.7, (255,255,255), 2)\n",
    "                cv2.putText(frame, str(skframe), (x + int(w/10)+340,y + int(h/2)+25), cv2.FONT_HERSHEY_SIMPLEX, \n",
    "                        0.7, (255,255,0), 2)\n",
    "                \n",
    "        return frame, car_number, tracked_id,skframe\n",
    "    \n",
    "    def plot_base(self,frame,height):\n",
    "        tl= self.tl\n",
    "        tr= self.tr\n",
    "        bl= self.bl\n",
    "        br= self.br\n",
    "        \n",
    "        pts = np.array([bl ,tl, tr, br], np.int32)  \n",
    "        pts = pts.reshape((-1, 1, 2))  \n",
    "        isClosed = True\n",
    "        # Blue color in BGR\n",
    "        color = (0, 255, 255)  \n",
    "        # Line thickness of 2 px\n",
    "        thickness = 2  \n",
    "        # Using cv2.polylines() method\n",
    "        # Draw a Blue polygon with \n",
    "        # thickness of 1 px\n",
    "        cv2.polylines(frame, [pts],isClosed, color, thickness)\n",
    "        x,y,h,w = 0,0,75,height\n",
    "        cv2.rectangle(frame, (x, x), (x + 2*w, y + h+10), (55,58,60), -1)\n",
    "        cv2.rectangle(frame, (x, x), (x + 2*w, y + h), (83,86,87), -1)\n",
    "        cv2.putText(frame, \"Car\", (x + int(w/10)-55,y + int(h/2)), cv2.FONT_HERSHEY_SIMPLEX,\n",
    "        0.7, (255,255,255), 2)\n",
    "        cv2.putText(frame, \"Truck\", (x + int(w/10)+10,y + int(h/2)), cv2.FONT_HERSHEY_SIMPLEX,\n",
    "        0.7, (255,255,255), 2)\n",
    "        cv2.putText(frame, \"MotorBike\", (x + int(w/10)+80,y + int(h/2)), cv2.FONT_HERSHEY_SIMPLEX,\n",
    "        0.7, (255,255,255), 2)\n",
    "        cv2.putText(frame, \"frame\", (x + int(w/10)+270,y + int(h/2)), cv2.FONT_HERSHEY_SIMPLEX,\n",
    "        0.7, (255,255,0), 2)\n",
    "        cv2.putText(frame, \"fps\", (x + int(w/10)+210,y + int(h/2)), cv2.FONT_HERSHEY_SIMPLEX,\n",
    "        0.7, (255,255,0), 2)\n",
    "        cv2.putText(frame, \"Vehicle Counting\", (x +w -230,y + int(h/2)+10), cv2.FONT_HERSHEY_SIMPLEX,\n",
    "        1.2, (255,255,0), 2)\n",
    "        "
   ]
  },
  {
   "cell_type": "markdown",
   "metadata": {},
   "source": [
    "### Main Loop for basic model\n"
   ]
  },
  {
   "cell_type": "markdown",
   "metadata": {},
   "source": [
    "### test 1"
   ]
  },
  {
   "cell_type": "code",
   "execution_count": 7,
   "metadata": {
    "colab": {
     "base_uri": "https://localhost:8080/",
     "height": 958
    },
    "id": "Qh5aC6sYKcHX",
    "outputId": "b8da84cd-057b-4684-fbe9-8c9588258ad0"
   },
   "outputs": [
    {
     "name": "stderr",
     "output_type": "stream",
     "text": [
      "Using cache found in /home/mojeee/.cache/torch/hub/ultralytics_yolov5_master\n",
      "YOLOv5 🚀 2023-2-7 Python-3.8.10 torch-1.13.1+cu117 CPU\n",
      "\n",
      "Fusing layers... \n",
      "YOLOv5m summary: 290 layers, 21172173 parameters, 0 gradients\n",
      "Adding AutoShape... \n"
     ]
    },
    {
     "ename": "AttributeError",
     "evalue": "'Track' object has no attribute 'class_num'",
     "output_type": "error",
     "traceback": [
      "\u001b[0;31m---------------------------------------------------------------------------\u001b[0m",
      "\u001b[0;31mAttributeError\u001b[0m                            Traceback (most recent call last)",
      "Cell \u001b[0;32mIn[7], line 31\u001b[0m\n\u001b[1;32m     29\u001b[0m selfe\u001b[38;5;241m.\u001b[39mplot_base(frame,height)\n\u001b[1;32m     30\u001b[0m \u001b[38;5;66;03m#tracking\u001b[39;00m\n\u001b[0;32m---> 31\u001b[0m frame, car_number, tracked_id,skframe\u001b[38;5;241m=\u001b[39m \u001b[43mselfe\u001b[49m\u001b[38;5;241;43m.\u001b[39;49m\u001b[43mtracking\u001b[49m\u001b[43m(\u001b[49m\u001b[43mtracker\u001b[49m\u001b[43m,\u001b[49m\u001b[43mframe\u001b[49m\u001b[43m,\u001b[49m\u001b[43mdetections\u001b[49m\u001b[43m,\u001b[49m\u001b[43mcar_number\u001b[49m\u001b[43m,\u001b[49m\u001b[43mtracked_id\u001b[49m\u001b[43m,\u001b[49m\u001b[43mskframe\u001b[49m\u001b[43m,\u001b[49m\u001b[43mheight\u001b[49m\u001b[43m)\u001b[49m\n\u001b[1;32m     32\u001b[0m \u001b[38;5;66;03m#out.write(frame)\u001b[39;00m\n\u001b[1;32m     33\u001b[0m cv2\u001b[38;5;241m.\u001b[39mimshow(\u001b[38;5;124m\"\u001b[39m\u001b[38;5;124mYolo Results\u001b[39m\u001b[38;5;124m\"\u001b[39m,frame)\u001b[38;5;66;03m#np.squeeze(results.render())\u001b[39;00m\n",
      "Cell \u001b[0;32mIn[6], line 81\u001b[0m, in \u001b[0;36mVehicleCounting.tracking\u001b[0;34m(self, tracker, frame, detections, car_number, tracked_id, skframe, height)\u001b[0m\n\u001b[1;32m     79\u001b[0m     \u001b[38;5;28;01mcontinue\u001b[39;00m\n\u001b[1;32m     80\u001b[0m track_id \u001b[38;5;241m=\u001b[39m track\u001b[38;5;241m.\u001b[39mtrack_id\n\u001b[0;32m---> 81\u001b[0m track_class \u001b[38;5;241m=\u001b[39m \u001b[43mtrack\u001b[49m\u001b[38;5;241;43m.\u001b[39;49m\u001b[43mclass_num\u001b[49m\n\u001b[1;32m     82\u001b[0m \u001b[38;5;28mprint\u001b[39m(track_class)\n\u001b[1;32m     83\u001b[0m ltrb \u001b[38;5;241m=\u001b[39m track\u001b[38;5;241m.\u001b[39mto_ltrb()\n",
      "\u001b[0;31mAttributeError\u001b[0m: 'Track' object has no attribute 'class_num'"
     ]
    }
   ],
   "source": [
    "cap = cv2.VideoCapture(\"../data/HighWay4_2.mp4\")\n",
    "width  = int(cap.get(cv2.CAP_PROP_FRAME_WIDTH))   # float `width`\n",
    "height = int(cap.get(cv2.CAP_PROP_FRAME_HEIGHT))\n",
    "\n",
    "selfe = VehicleCounting()\n",
    "model = selfe.detector()\n",
    "tracker = selfe.trackers()\n",
    "#writing to file\n",
    "#fourcc = cv2.VideoWriter_fourcc(*'MP4V') #codec\n",
    "#out = cv2.VideoWriter('output.mp4', fourcc, 20.0, (width,  height))\n",
    "# counting numbers initialization\n",
    "skframe = 0\n",
    "car_number= 0\n",
    "tracked_id = []\n",
    "num_frame = 0\n",
    "#main Loop\n",
    "while cap.isOpened():\n",
    "    ret, frame = cap.read()\n",
    "    if not ret:\n",
    "        print(\"Can't receive frame (stream end?). Exiting ...\")\n",
    "        break\n",
    "    # to skip some frames and make it faster  \n",
    "    skframe +=1\n",
    "    if skframe%3 !=0:\n",
    "        continue\n",
    "    # detection\n",
    "    detections = selfe.detections(model,frame)    \n",
    "    # all necessaries plots\n",
    "    selfe.plot_base(frame,height)\n",
    "    #tracking\n",
    "    frame, car_number, tracked_id,skframe= selfe.tracking(tracker,frame,detections,car_number,tracked_id,skframe,height)\n",
    "    #out.write(frame)\n",
    "    cv2.imshow(\"Yolo Results\",frame)#np.squeeze(results.render())\n",
    "    # exit condition \n",
    "    if cv2.waitKey(10) & 0xFF == ord('q'):\n",
    "        break\n",
    "        \n",
    "#out.release()\n",
    "cap.release()\n",
    "cv2.destroyAllWindows()\n",
    "print(\"We are Done!!\")\n"
   ]
  },
  {
   "cell_type": "code",
   "execution_count": null,
   "metadata": {},
   "outputs": [],
   "source": []
  }
 ],
 "metadata": {
  "accelerator": "GPU",
  "colab": {
   "provenance": []
  },
  "gpuClass": "standard",
  "kernelspec": {
   "display_name": "Python 3 (ipykernel)",
   "language": "python",
   "name": "python3"
  },
  "language_info": {
   "codemirror_mode": {
    "name": "ipython",
    "version": 3
   },
   "file_extension": ".py",
   "mimetype": "text/x-python",
   "name": "python",
   "nbconvert_exporter": "python",
   "pygments_lexer": "ipython3",
   "version": "3.8.10"
  },
  "widgets": {
   "application/vnd.jupyter.widget-state+json": {
    "17cafa8a3f654c2fa5fb6285ef8e711d": {
     "model_module": "@jupyter-widgets/base",
     "model_module_version": "1.2.0",
     "model_name": "LayoutModel",
     "state": {
      "_model_module": "@jupyter-widgets/base",
      "_model_module_version": "1.2.0",
      "_model_name": "LayoutModel",
      "_view_count": null,
      "_view_module": "@jupyter-widgets/base",
      "_view_module_version": "1.2.0",
      "_view_name": "LayoutView",
      "align_content": null,
      "align_items": null,
      "align_self": null,
      "border": null,
      "bottom": null,
      "display": null,
      "flex": null,
      "flex_flow": null,
      "grid_area": null,
      "grid_auto_columns": null,
      "grid_auto_flow": null,
      "grid_auto_rows": null,
      "grid_column": null,
      "grid_gap": null,
      "grid_row": null,
      "grid_template_areas": null,
      "grid_template_columns": null,
      "grid_template_rows": null,
      "height": null,
      "justify_content": null,
      "justify_items": null,
      "left": null,
      "margin": null,
      "max_height": null,
      "max_width": null,
      "min_height": null,
      "min_width": null,
      "object_fit": null,
      "object_position": null,
      "order": null,
      "overflow": null,
      "overflow_x": null,
      "overflow_y": null,
      "padding": null,
      "right": null,
      "top": null,
      "visibility": null,
      "width": null
     }
    },
    "221751fa03ce44d29e5cab044ed8e3a3": {
     "model_module": "@jupyter-widgets/base",
     "model_module_version": "1.2.0",
     "model_name": "LayoutModel",
     "state": {
      "_model_module": "@jupyter-widgets/base",
      "_model_module_version": "1.2.0",
      "_model_name": "LayoutModel",
      "_view_count": null,
      "_view_module": "@jupyter-widgets/base",
      "_view_module_version": "1.2.0",
      "_view_name": "LayoutView",
      "align_content": null,
      "align_items": null,
      "align_self": null,
      "border": null,
      "bottom": null,
      "display": null,
      "flex": null,
      "flex_flow": null,
      "grid_area": null,
      "grid_auto_columns": null,
      "grid_auto_flow": null,
      "grid_auto_rows": null,
      "grid_column": null,
      "grid_gap": null,
      "grid_row": null,
      "grid_template_areas": null,
      "grid_template_columns": null,
      "grid_template_rows": null,
      "height": null,
      "justify_content": null,
      "justify_items": null,
      "left": null,
      "margin": null,
      "max_height": null,
      "max_width": null,
      "min_height": null,
      "min_width": null,
      "object_fit": null,
      "object_position": null,
      "order": null,
      "overflow": null,
      "overflow_x": null,
      "overflow_y": null,
      "padding": null,
      "right": null,
      "top": null,
      "visibility": null,
      "width": null
     }
    },
    "30d93085d29c4a5aaee805d13a9b6c4c": {
     "model_module": "@jupyter-widgets/controls",
     "model_module_version": "1.5.0",
     "model_name": "HTMLModel",
     "state": {
      "_dom_classes": [],
      "_model_module": "@jupyter-widgets/controls",
      "_model_module_version": "1.5.0",
      "_model_name": "HTMLModel",
      "_view_count": null,
      "_view_module": "@jupyter-widgets/controls",
      "_view_module_version": "1.5.0",
      "_view_name": "HTMLView",
      "description": "",
      "description_tooltip": null,
      "layout": "IPY_MODEL_17cafa8a3f654c2fa5fb6285ef8e711d",
      "placeholder": "​",
      "style": "IPY_MODEL_595558aceaae422d9273faebc9d053ad",
      "value": "100%"
     }
    },
    "595558aceaae422d9273faebc9d053ad": {
     "model_module": "@jupyter-widgets/controls",
     "model_module_version": "1.5.0",
     "model_name": "DescriptionStyleModel",
     "state": {
      "_model_module": "@jupyter-widgets/controls",
      "_model_module_version": "1.5.0",
      "_model_name": "DescriptionStyleModel",
      "_view_count": null,
      "_view_module": "@jupyter-widgets/base",
      "_view_module_version": "1.2.0",
      "_view_name": "StyleView",
      "description_width": ""
     }
    },
    "678bfded5fb04eb6bb78d73c8d1611b5": {
     "model_module": "@jupyter-widgets/base",
     "model_module_version": "1.2.0",
     "model_name": "LayoutModel",
     "state": {
      "_model_module": "@jupyter-widgets/base",
      "_model_module_version": "1.2.0",
      "_model_name": "LayoutModel",
      "_view_count": null,
      "_view_module": "@jupyter-widgets/base",
      "_view_module_version": "1.2.0",
      "_view_name": "LayoutView",
      "align_content": null,
      "align_items": null,
      "align_self": null,
      "border": null,
      "bottom": null,
      "display": null,
      "flex": null,
      "flex_flow": null,
      "grid_area": null,
      "grid_auto_columns": null,
      "grid_auto_flow": null,
      "grid_auto_rows": null,
      "grid_column": null,
      "grid_gap": null,
      "grid_row": null,
      "grid_template_areas": null,
      "grid_template_columns": null,
      "grid_template_rows": null,
      "height": null,
      "justify_content": null,
      "justify_items": null,
      "left": null,
      "margin": null,
      "max_height": null,
      "max_width": null,
      "min_height": null,
      "min_width": null,
      "object_fit": null,
      "object_position": null,
      "order": null,
      "overflow": null,
      "overflow_x": null,
      "overflow_y": null,
      "padding": null,
      "right": null,
      "top": null,
      "visibility": null,
      "width": null
     }
    },
    "782b8f433d424ec895742b4ca4ab51fe": {
     "model_module": "@jupyter-widgets/controls",
     "model_module_version": "1.5.0",
     "model_name": "ProgressStyleModel",
     "state": {
      "_model_module": "@jupyter-widgets/controls",
      "_model_module_version": "1.5.0",
      "_model_name": "ProgressStyleModel",
      "_view_count": null,
      "_view_module": "@jupyter-widgets/base",
      "_view_module_version": "1.2.0",
      "_view_name": "StyleView",
      "bar_color": null,
      "description_width": ""
     }
    },
    "80befd3ffaff4e3982692f7d6a1817da": {
     "model_module": "@jupyter-widgets/controls",
     "model_module_version": "1.5.0",
     "model_name": "HTMLModel",
     "state": {
      "_dom_classes": [],
      "_model_module": "@jupyter-widgets/controls",
      "_model_module_version": "1.5.0",
      "_model_name": "HTMLModel",
      "_view_count": null,
      "_view_module": "@jupyter-widgets/controls",
      "_view_module_version": "1.5.0",
      "_view_name": "HTMLView",
      "description": "",
      "description_tooltip": null,
      "layout": "IPY_MODEL_e6a98a4b5fc04c269921d5ebf6714e84",
      "placeholder": "​",
      "style": "IPY_MODEL_9de15346bec0475282bc22df10735f32",
      "value": " 14.1M/14.1M [00:00&lt;00:00, 24.3MB/s]"
     }
    },
    "830842f002d644e6beb15ab91fbbdda6": {
     "model_module": "@jupyter-widgets/controls",
     "model_module_version": "1.5.0",
     "model_name": "FloatProgressModel",
     "state": {
      "_dom_classes": [],
      "_model_module": "@jupyter-widgets/controls",
      "_model_module_version": "1.5.0",
      "_model_name": "FloatProgressModel",
      "_view_count": null,
      "_view_module": "@jupyter-widgets/controls",
      "_view_module_version": "1.5.0",
      "_view_name": "ProgressView",
      "bar_style": "success",
      "description": "",
      "description_tooltip": null,
      "layout": "IPY_MODEL_221751fa03ce44d29e5cab044ed8e3a3",
      "max": 14808437,
      "min": 0,
      "orientation": "horizontal",
      "style": "IPY_MODEL_782b8f433d424ec895742b4ca4ab51fe",
      "value": 14808437
     }
    },
    "9de15346bec0475282bc22df10735f32": {
     "model_module": "@jupyter-widgets/controls",
     "model_module_version": "1.5.0",
     "model_name": "DescriptionStyleModel",
     "state": {
      "_model_module": "@jupyter-widgets/controls",
      "_model_module_version": "1.5.0",
      "_model_name": "DescriptionStyleModel",
      "_view_count": null,
      "_view_module": "@jupyter-widgets/base",
      "_view_module_version": "1.2.0",
      "_view_name": "StyleView",
      "description_width": ""
     }
    },
    "e6a98a4b5fc04c269921d5ebf6714e84": {
     "model_module": "@jupyter-widgets/base",
     "model_module_version": "1.2.0",
     "model_name": "LayoutModel",
     "state": {
      "_model_module": "@jupyter-widgets/base",
      "_model_module_version": "1.2.0",
      "_model_name": "LayoutModel",
      "_view_count": null,
      "_view_module": "@jupyter-widgets/base",
      "_view_module_version": "1.2.0",
      "_view_name": "LayoutView",
      "align_content": null,
      "align_items": null,
      "align_self": null,
      "border": null,
      "bottom": null,
      "display": null,
      "flex": null,
      "flex_flow": null,
      "grid_area": null,
      "grid_auto_columns": null,
      "grid_auto_flow": null,
      "grid_auto_rows": null,
      "grid_column": null,
      "grid_gap": null,
      "grid_row": null,
      "grid_template_areas": null,
      "grid_template_columns": null,
      "grid_template_rows": null,
      "height": null,
      "justify_content": null,
      "justify_items": null,
      "left": null,
      "margin": null,
      "max_height": null,
      "max_width": null,
      "min_height": null,
      "min_width": null,
      "object_fit": null,
      "object_position": null,
      "order": null,
      "overflow": null,
      "overflow_x": null,
      "overflow_y": null,
      "padding": null,
      "right": null,
      "top": null,
      "visibility": null,
      "width": null
     }
    },
    "f21e78ebbae34376adb4714a2936199c": {
     "model_module": "@jupyter-widgets/controls",
     "model_module_version": "1.5.0",
     "model_name": "HBoxModel",
     "state": {
      "_dom_classes": [],
      "_model_module": "@jupyter-widgets/controls",
      "_model_module_version": "1.5.0",
      "_model_name": "HBoxModel",
      "_view_count": null,
      "_view_module": "@jupyter-widgets/controls",
      "_view_module_version": "1.5.0",
      "_view_name": "HBoxView",
      "box_style": "",
      "children": [
       "IPY_MODEL_30d93085d29c4a5aaee805d13a9b6c4c",
       "IPY_MODEL_830842f002d644e6beb15ab91fbbdda6",
       "IPY_MODEL_80befd3ffaff4e3982692f7d6a1817da"
      ],
      "layout": "IPY_MODEL_678bfded5fb04eb6bb78d73c8d1611b5"
     }
    }
   }
  }
 },
 "nbformat": 4,
 "nbformat_minor": 1
}
